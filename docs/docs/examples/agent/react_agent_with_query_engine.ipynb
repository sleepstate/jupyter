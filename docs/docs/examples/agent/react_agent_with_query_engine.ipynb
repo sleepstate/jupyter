{
  "cells": [
    {
      "cell_type": "markdown",
      "metadata": {
        "id": "view-in-github",
        "colab_type": "text"
      },
      "source": [
        "<a href=\"https://colab.research.google.com/github/sleepstate/jupyter/blob/main/docs/docs/examples/agent/react_agent_with_query_engine.ipynb\" target=\"_parent\"><img src=\"https://colab.research.google.com/assets/colab-badge.svg\" alt=\"Open In Colab\"/></a>"
      ]
    },
    {
      "cell_type": "markdown",
      "id": "6b0186a4",
      "metadata": {
        "id": "6b0186a4"
      },
      "source": [
        "<a href=\"https://colab.research.google.com/github/run-llama/llama_index/blob/main/docs/docs/examples/agent/react_agent_with_query_engine.ipynb\" target=\"_parent\"><img src=\"https://colab.research.google.com/assets/colab-badge.svg\" alt=\"Open In Colab\"/></a>"
      ]
    },
    {
      "cell_type": "markdown",
      "id": "b50c4af8-fec3-4396-860a-1322089d76cb",
      "metadata": {
        "id": "b50c4af8-fec3-4396-860a-1322089d76cb"
      },
      "source": [
        "# ReAct Agent with Query Engine (RAG) Tools\n",
        "\n",
        "In this section, we show how to setup an agent powered by the ReAct loop for financial analysis.\n",
        "\n",
        "The agent has access to two \"tools\": one to query the 2021 Lyft 10-K and the other to query the 2021 Uber 10-K.\n",
        "\n",
        "We try two different LLMs:\n",
        "\n",
        "- gpt-3.5-turbo\n",
        "- gpt-3.5-turbo-instruct\n",
        "\n",
        "Note that you can plug in any LLM that exposes a text completion endpoint."
      ]
    },
    {
      "cell_type": "markdown",
      "id": "db402a8b-90d6-4e1d-8df6-347c54624f26",
      "metadata": {
        "id": "db402a8b-90d6-4e1d-8df6-347c54624f26"
      },
      "source": [
        "## Build Query Engine Tools"
      ]
    },
    {
      "cell_type": "code",
      "execution_count": null,
      "id": "dd31aff7",
      "metadata": {
        "id": "dd31aff7"
      },
      "outputs": [],
      "source": [
        "%pip install llama-index-llms-openai"
      ]
    },
    {
      "cell_type": "code",
      "execution_count": null,
      "id": "02160804-64a2-4ef3-8a0d-8c16b06fd205",
      "metadata": {
        "id": "02160804-64a2-4ef3-8a0d-8c16b06fd205"
      },
      "outputs": [],
      "source": [
        "from llama_index.core import (\n",
        "    SimpleDirectoryReader,\n",
        "    VectorStoreIndex,\n",
        "    StorageContext,\n",
        "    load_index_from_storage,\n",
        ")\n",
        "\n",
        "from llama_index.core.tools import QueryEngineTool, ToolMetadata"
      ]
    },
    {
      "cell_type": "code",
      "execution_count": null,
      "id": "91618236-54d3-4783-86b7-7b7554efeed1",
      "metadata": {
        "id": "91618236-54d3-4783-86b7-7b7554efeed1"
      },
      "outputs": [],
      "source": [
        "try:\n",
        "    storage_context = StorageContext.from_defaults(\n",
        "        persist_dir=\"./storage/lyft\"\n",
        "    )\n",
        "    lyft_index = load_index_from_storage(storage_context)\n",
        "\n",
        "    storage_context = StorageContext.from_defaults(\n",
        "        persist_dir=\"./storage/uber\"\n",
        "    )\n",
        "    uber_index = load_index_from_storage(storage_context)\n",
        "\n",
        "    index_loaded = True\n",
        "except:\n",
        "    index_loaded = False"
      ]
    },
    {
      "cell_type": "markdown",
      "id": "6a79cbc9",
      "metadata": {
        "id": "6a79cbc9"
      },
      "source": [
        "Download Data"
      ]
    },
    {
      "cell_type": "code",
      "execution_count": null,
      "id": "36d80144",
      "metadata": {
        "id": "36d80144"
      },
      "outputs": [],
      "source": [
        "!mkdir -p 'data/10k/'\n",
        "!wget 'https://raw.githubusercontent.com/run-llama/llama_index/main/docs/docs/examples/data/10k/uber_2021.pdf' -O 'data/10k/uber_2021.pdf'\n",
        "!wget 'https://raw.githubusercontent.com/run-llama/llama_index/main/docs/docs/examples/data/10k/lyft_2021.pdf' -O 'data/10k/lyft_2021.pdf'"
      ]
    },
    {
      "cell_type": "code",
      "execution_count": null,
      "id": "d3d0bb8c-16c8-4946-a9d8-59528cf3952a",
      "metadata": {
        "id": "d3d0bb8c-16c8-4946-a9d8-59528cf3952a"
      },
      "outputs": [],
      "source": [
        "if not index_loaded:\n",
        "    # load data\n",
        "    lyft_docs = SimpleDirectoryReader(\n",
        "        input_files=[\"./data/10k/lyft_2021.pdf\"]\n",
        "    ).load_data()\n",
        "    uber_docs = SimpleDirectoryReader(\n",
        "        input_files=[\"./data/10k/uber_2021.pdf\"]\n",
        "    ).load_data()\n",
        "\n",
        "    # build index\n",
        "    lyft_index = VectorStoreIndex.from_documents(lyft_docs)\n",
        "    uber_index = VectorStoreIndex.from_documents(uber_docs)\n",
        "\n",
        "    # persist index\n",
        "    lyft_index.storage_context.persist(persist_dir=\"./storage/lyft\")\n",
        "    uber_index.storage_context.persist(persist_dir=\"./storage/uber\")"
      ]
    },
    {
      "cell_type": "code",
      "execution_count": null,
      "id": "31892898-a2dc-43c8-812a-3442feb2108d",
      "metadata": {
        "id": "31892898-a2dc-43c8-812a-3442feb2108d"
      },
      "outputs": [],
      "source": [
        "lyft_engine = lyft_index.as_query_engine(similarity_top_k=3)\n",
        "uber_engine = uber_index.as_query_engine(similarity_top_k=3)"
      ]
    },
    {
      "cell_type": "code",
      "execution_count": null,
      "id": "f9f3158a-7647-4442-8de1-4db80723b4d2",
      "metadata": {
        "id": "f9f3158a-7647-4442-8de1-4db80723b4d2"
      },
      "outputs": [],
      "source": [
        "query_engine_tools = [\n",
        "    QueryEngineTool(\n",
        "        query_engine=lyft_engine,\n",
        "        metadata=ToolMetadata(\n",
        "            name=\"lyft_10k\",\n",
        "            description=(\n",
        "                \"Provides information about Lyft financials for year 2021. \"\n",
        "                \"Use a detailed plain text question as input to the tool.\"\n",
        "            ),\n",
        "        ),\n",
        "    ),\n",
        "    QueryEngineTool(\n",
        "        query_engine=uber_engine,\n",
        "        metadata=ToolMetadata(\n",
        "            name=\"uber_10k\",\n",
        "            description=(\n",
        "                \"Provides information about Uber financials for year 2021. \"\n",
        "                \"Use a detailed plain text question as input to the tool.\"\n",
        "            ),\n",
        "        ),\n",
        "    ),\n",
        "]"
      ]
    },
    {
      "cell_type": "markdown",
      "id": "275c01b1-8dce-4216-9203-1e961b7fc313",
      "metadata": {
        "id": "275c01b1-8dce-4216-9203-1e961b7fc313"
      },
      "source": [
        "## Setup ReAct Agent\n",
        "\n",
        "Here we setup two ReAct agents: one powered by standard gpt-3.5-turbo, and the other powered by gpt-3.5-turbo-instruct.\n",
        "\n",
        "You can **optionally** specify context which will be added to the core ReAct system prompt."
      ]
    },
    {
      "cell_type": "code",
      "execution_count": null,
      "id": "32f71a46-bdf6-4365-b1f1-e23a0d913a3d",
      "metadata": {
        "id": "32f71a46-bdf6-4365-b1f1-e23a0d913a3d"
      },
      "outputs": [],
      "source": [
        "from llama_index.core.agent import ReActAgent\n",
        "from llama_index.llms.openai import OpenAI"
      ]
    },
    {
      "cell_type": "code",
      "execution_count": null,
      "id": "ded93297-fee8-4329-bf37-cf77e87621ae",
      "metadata": {
        "id": "ded93297-fee8-4329-bf37-cf77e87621ae"
      },
      "outputs": [],
      "source": [
        "# [Optional] Add Context\n",
        "# context = \"\"\"\\\n",
        "# You are a stock market sorcerer who is an expert on the companies Lyft and Uber.\\\n",
        "#     You will answer questions about Uber and Lyft as in the persona of a sorcerer \\\n",
        "#     and veteran stock market investor.\n",
        "# \"\"\"\n",
        "llm = OpenAI(model=\"gpt-3.5-turbo-0613\")\n",
        "\n",
        "agent = ReActAgent.from_tools(\n",
        "    query_engine_tools,\n",
        "    llm=llm,\n",
        "    verbose=True,\n",
        "    # context=context\n",
        ")"
      ]
    },
    {
      "cell_type": "code",
      "execution_count": null,
      "id": "70a82471-9226-42ad-bd8a-aebde3530d95",
      "metadata": {
        "id": "70a82471-9226-42ad-bd8a-aebde3530d95",
        "outputId": "fb650cf6-7ab3-463e-b480-d8413c06519f"
      },
      "outputs": [
        {
          "name": "stdout",
          "output_type": "stream",
          "text": [
            "\u001b[38;5;200m\u001b[1;3mThought: I need to use a tool to help me answer the question.\n",
            "Action: lyft_10k\n",
            "Action Input: {'input': \"What was Lyft's revenue growth in 2021?\"}\n",
            "\u001b[0m\u001b[36;1m\u001b[1;3mObservation: Lyft's revenue growth in 2021 was 36%.\n",
            "\u001b[0m\u001b[38;5;200m\u001b[1;3mResponse: Lyft's revenue growth in 2021 was 36%.\n",
            "\u001b[0mLyft's revenue growth in 2021 was 36%.\n"
          ]
        }
      ],
      "source": [
        "response = agent.chat(\"What was Lyft's revenue growth in 2021?\")\n",
        "print(str(response))"
      ]
    },
    {
      "cell_type": "markdown",
      "id": "6fa830f5-11a5-4369-91b2-29695537debd",
      "metadata": {
        "id": "6fa830f5-11a5-4369-91b2-29695537debd"
      },
      "source": [
        "## Run Some Example Queries\n",
        "\n",
        "We run some example queries using the agent, showcasing some of the agent's abilities to do chain-of-thought-reasoning and tool use to synthesize the right answer.\n",
        "\n",
        "We also show queries."
      ]
    },
    {
      "cell_type": "code",
      "execution_count": null,
      "id": "0873463d-4790-4c17-bfe9-2ece610fe4b3",
      "metadata": {
        "id": "0873463d-4790-4c17-bfe9-2ece610fe4b3",
        "outputId": "e7279694-67f3-4b3d-8e05-62d125fdd9c7"
      },
      "outputs": [
        {
          "name": "stdout",
          "output_type": "stream",
          "text": [
            "\u001b[38;5;200m\u001b[1;3mThought: I need to use a tool to help me compare the revenue growth of Uber and Lyft in 2021.\n",
            "Action: lyft_10k\n",
            "Action Input: {'input': \"What was Lyft's revenue growth in 2021?\"}\n",
            "\u001b[0m\u001b[36;1m\u001b[1;3mObservation: Lyft's revenue growth in 2021 was 36%.\n",
            "\u001b[0m\u001b[38;5;200m\u001b[1;3mThought: I need to use a tool to help me compare the revenue growth of Uber and Lyft in 2021.\n",
            "Action: uber_10k\n",
            "Action Input: {'input': \"What was Uber's revenue growth in 2021?\"}\n",
            "\u001b[0m\u001b[36;1m\u001b[1;3mObservation: Uber's revenue growth in 2021 was 57%.\n",
            "\u001b[0m\u001b[38;5;200m\u001b[1;3mResponse: In 2021, Lyft's revenue growth was 36% while Uber's revenue growth was 57%. This indicates that Uber experienced a higher revenue growth compared to Lyft in 2021.\n",
            "\u001b[0mIn 2021, Lyft's revenue growth was 36% while Uber's revenue growth was 57%. This indicates that Uber experienced a higher revenue growth compared to Lyft in 2021.\n"
          ]
        }
      ],
      "source": [
        "response = agent.chat(\n",
        "    \"Compare and contrast the revenue growth of Uber and Lyft in 2021, then\"\n",
        "    \" give an analysis\"\n",
        ")\n",
        "print(str(response))"
      ]
    },
    {
      "cell_type": "markdown",
      "id": "9bf0cb61-22c6-486c-8970-5d5c1767f3fb",
      "metadata": {
        "id": "9bf0cb61-22c6-486c-8970-5d5c1767f3fb"
      },
      "source": [
        "**Async execution**: Here we try another query with async execution"
      ]
    },
    {
      "cell_type": "code",
      "execution_count": null,
      "id": "bb63492a-836c-42da-94a4-0b22cccbc3e0",
      "metadata": {
        "id": "bb63492a-836c-42da-94a4-0b22cccbc3e0"
      },
      "outputs": [],
      "source": [
        "# Try another query with async execution\n",
        "\n",
        "import nest_asyncio\n",
        "\n",
        "nest_asyncio.apply()\n",
        "\n",
        "response = await agent.achat(\n",
        "    \"Compare and contrast the risks of Uber and Lyft in 2021, then give an\"\n",
        "    \" analysis\"\n",
        ")\n",
        "print(str(response))"
      ]
    },
    {
      "cell_type": "markdown",
      "id": "3f5cee95-d28c-4f81-a215-a11e886cb357",
      "metadata": {
        "id": "3f5cee95-d28c-4f81-a215-a11e886cb357"
      },
      "source": [
        "### Compare gpt-3.5-turbo vs. gpt-3.5-turbo-instruct\n",
        "\n",
        "We compare the performance of the two agents in being able to answer some complex queries."
      ]
    },
    {
      "cell_type": "markdown",
      "id": "7aebd34f-2a11-4303-b095-d1e4d07b6a10",
      "metadata": {
        "id": "7aebd34f-2a11-4303-b095-d1e4d07b6a10"
      },
      "source": [
        "#### Taking a look at a turbo-instruct agent"
      ]
    },
    {
      "cell_type": "code",
      "execution_count": null,
      "id": "ac49a939",
      "metadata": {
        "id": "ac49a939"
      },
      "outputs": [],
      "source": [
        "llm_instruct = OpenAI(model=\"gpt-3.5-turbo-instruct\")\n",
        "agent_instruct = ReActAgent.from_tools(\n",
        "    query_engine_tools, llm=llm_instruct, verbose=True\n",
        ")"
      ]
    },
    {
      "cell_type": "code",
      "execution_count": null,
      "id": "6a4e3950-fbf4-465b-be30-387385450efc",
      "metadata": {
        "id": "6a4e3950-fbf4-465b-be30-387385450efc",
        "outputId": "90ce6469-6221-4d5a-95c5-ca530c12f2e1"
      },
      "outputs": [
        {
          "name": "stdout",
          "output_type": "stream",
          "text": [
            "\u001b[38;5;200m\u001b[1;3mThought: I need to use a tool to help me answer the question.\n",
            "Action: lyft_10k\n",
            "Action Input: {'input': \"What was Lyft's revenue growth in 2021?\"}\n",
            "\u001b[0m\u001b[36;1m\u001b[1;3mObservation: Lyft's revenue growth in 2021 was 36%.\n",
            "\u001b[0m\u001b[38;5;200m\u001b[1;3mResponse: Lyft's revenue growth in 2021 was 36%.\n",
            "\u001b[0mLyft's revenue growth in 2021 was 36%.\n"
          ]
        }
      ],
      "source": [
        "response = agent_instruct.chat(\"What was Lyft's revenue growth in 2021?\")\n",
        "print(str(response))"
      ]
    },
    {
      "cell_type": "markdown",
      "id": "1c271f7d-864b-4dc8-8948-50f469cb73b8",
      "metadata": {
        "id": "1c271f7d-864b-4dc8-8948-50f469cb73b8"
      },
      "source": [
        "#### Try more complex queries\n",
        "\n",
        "We compare gpt-3.5-turbo with gpt-3.5-turbo-instruct agents on more complex queries."
      ]
    },
    {
      "cell_type": "code",
      "execution_count": null,
      "id": "2814449d-cb03-4aaf-965d-8845191bf7c5",
      "metadata": {
        "id": "2814449d-cb03-4aaf-965d-8845191bf7c5",
        "outputId": "fee4d834-1006-4c33-aa7d-02fe88275feb"
      },
      "outputs": [
        {
          "name": "stdout",
          "output_type": "stream",
          "text": [
            "\u001b[38;5;200m\u001b[1;3mThought: I need to use a tool to help me compare the revenue growth of Uber and Lyft in 2021.\n",
            "Action: uber_10k\n",
            "Action Input: {'input': \"Please provide information about Uber's revenue growth in 2021.\"}\n",
            "\u001b[0m\u001b[36;1m\u001b[1;3mObservation: Uber's revenue grew by 57% in 2021 compared to the previous year. This growth was primarily driven by an increase in Gross Bookings, with Delivery Gross Bookings increasing by 71% and Mobility Gross Bookings growing by 38%. The increase in Delivery Gross Bookings was due to higher demand for food delivery orders and expansion across U.S. and international markets. The growth in Mobility Gross Bookings was a result of increased Trip volumes as the business recovered from the impacts of COVID-19.\n",
            "\u001b[0m\u001b[38;5;200m\u001b[1;3mThought: I have information about Uber's revenue growth in 2021. Now I need to use a tool to get information about Lyft's revenue growth in 2021.\n",
            "Action: lyft_10k\n",
            "Action Input: {'input': \"Please provide information about Lyft's revenue growth in 2021.\"}\n",
            "\u001b[0m\u001b[36;1m\u001b[1;3mObservation: Lyft's revenue increased by 36% in 2021 compared to the prior year.\n",
            "\u001b[0m\u001b[38;5;200m\u001b[1;3mResponse: In 2021, Uber experienced a higher revenue growth rate of 57% compared to Lyft's growth rate of 36%. This indicates that Uber had a stronger performance in terms of revenue growth during that period. The growth in Uber's revenue was primarily driven by an increase in Gross Bookings, with both Delivery and Mobility segments contributing to the growth. The increase in Delivery Gross Bookings was due to higher demand for food delivery services, while the growth in Mobility Gross Bookings was a result of increased trip volumes as the business recovered from the impacts of COVID-19.\n",
            "\u001b[0mIn 2021, Uber experienced a higher revenue growth rate of 57% compared to Lyft's growth rate of 36%. This indicates that Uber had a stronger performance in terms of revenue growth during that period. The growth in Uber's revenue was primarily driven by an increase in Gross Bookings, with both Delivery and Mobility segments contributing to the growth. The increase in Delivery Gross Bookings was due to higher demand for food delivery services, while the growth in Mobility Gross Bookings was a result of increased trip volumes as the business recovered from the impacts of COVID-19.\n"
          ]
        }
      ],
      "source": [
        "response = agent.chat(\n",
        "    \"Compare and contrast the revenue growth of Uber and Lyft in 2021, then\"\n",
        "    \" give an analysis\"\n",
        ")\n",
        "print(str(response))"
      ]
    },
    {
      "cell_type": "code",
      "execution_count": null,
      "id": "a31c1b18-bc25-4c65-8897-131535769c65",
      "metadata": {
        "id": "a31c1b18-bc25-4c65-8897-131535769c65",
        "outputId": "79099c64-ced6-4aa8-eff4-32d63c084990"
      },
      "outputs": [
        {
          "name": "stdout",
          "output_type": "stream",
          "text": [
            "\u001b[38;5;200m\u001b[1;3mResponse: The revenue growth of Uber was higher than Lyft in 2021, with Uber experiencing a 74% growth compared to Lyft's 48%. This indicates that Uber may have had a stronger financial performance in 2021. However, further analysis is needed to fully understand the factors contributing to this difference.\n",
            "\u001b[0mThe revenue growth of Uber was higher than Lyft in 2021, with Uber experiencing a 74% growth compared to Lyft's 48%. This indicates that Uber may have had a stronger financial performance in 2021. However, further analysis is needed to fully understand the factors contributing to this difference.\n"
          ]
        }
      ],
      "source": [
        "response = agent_instruct.chat(\n",
        "    \"Compare and contrast the revenue growth of Uber and Lyft in 2021, then\"\n",
        "    \" give an analysis\"\n",
        ")\n",
        "print(str(response))"
      ]
    },
    {
      "cell_type": "code",
      "execution_count": null,
      "id": "9df0c999-72bd-4b25-ad37-8d42a176051a",
      "metadata": {
        "id": "9df0c999-72bd-4b25-ad37-8d42a176051a",
        "outputId": "40a6d3aa-4a96-4612-dc57-7b40156814fb"
      },
      "outputs": [
        {
          "name": "stdout",
          "output_type": "stream",
          "text": [
            "\u001b[38;5;200m\u001b[1;3mThought: I need to find out which company has higher revenue before I can provide information about its risk factors.\n",
            "Action: lyft_10k\n",
            "Action Input: {'input': 'What is the revenue of Lyft in 2021?'}\n",
            "\u001b[0m\u001b[36;1m\u001b[1;3mObservation: The revenue of Lyft in 2021 is $3,208,323,000.\n",
            "\u001b[0m\u001b[38;5;200m\u001b[1;3mThought: Now that I know Lyft has higher revenue, I can find information about its risk factors.\n",
            "Action: lyft_10k\n",
            "Action Input: {'input': 'What are the risk factors of Lyft?'}\n",
            "\u001b[0m\u001b[36;1m\u001b[1;3mObservation: Lyft faces numerous risk factors that could potentially harm its business, financial condition, and results of operations. These risk factors include general economic factors such as the impact of the COVID-19 pandemic, natural disasters, economic downturns, and political crises. Operational factors such as limited operating history, financial performance, competition, unpredictability of results, uncertainty regarding market growth, ability to attract and retain drivers and riders, insurance coverage, autonomous vehicle technology, reputation and brand, illegal or improper activity on the platform, accuracy of background checks, changes to pricing practices, growth management, security and privacy breaches, reliance on third parties, and ability to operate various programs and services. Additionally, Lyft faces risks related to its evolving business, including forecasting revenue and managing expenses, complying with laws and regulations, managing assets and expenses during the COVID-19 pandemic, capital expenditures, asset development and utilization, macroeconomic changes, reputation and brand management, growth and business operations, geographic expansion, talent acquisition and retention, platform development, and real estate portfolio management. Furthermore, Lyft's financial performance in recent periods may not be indicative of future performance, and achieving or maintaining profitability in the future is not guaranteed. The Express Drive program and Lyft Rentals program also expose Lyft to risks related to vehicle rental partners, residual value of vehicles, and payment processing.\n",
            "\u001b[0m\u001b[38;5;200m\u001b[1;3mResponse: Lyft faces numerous risk factors that could potentially harm its business, financial condition, and results of operations. These risk factors include general economic factors such as the impact of the COVID-19 pandemic, natural disasters, economic downturns, and political crises. Operational factors such as limited operating history, financial performance, competition, unpredictability of results, uncertainty regarding market growth, ability to attract and retain drivers and riders, insurance coverage, autonomous vehicle technology, reputation and brand, illegal or improper activity on the platform, accuracy of background checks, changes to pricing practices, growth management, security and privacy breaches, reliance on third parties, and ability to operate various programs and services. Additionally, Lyft faces risks related to its evolving business, including forecasting revenue and managing expenses, complying with laws and regulations, managing assets and expenses during the COVID-19 pandemic, capital expenditures, asset development and utilization, macroeconomic changes, reputation and brand management, growth and business operations, geographic expansion, talent acquisition and retention, platform development, and real estate portfolio management. Furthermore, Lyft's financial performance in recent periods may not be indicative of future performance, and achieving or maintaining profitability in the future is not guaranteed. The Express Drive program and Lyft Rentals program also expose Lyft to risks related to vehicle rental partners, residual value of vehicles, and payment processing.\n",
            "\u001b[0mLyft faces numerous risk factors that could potentially harm its business, financial condition, and results of operations. These risk factors include general economic factors such as the impact of the COVID-19 pandemic, natural disasters, economic downturns, and political crises. Operational factors such as limited operating history, financial performance, competition, unpredictability of results, uncertainty regarding market growth, ability to attract and retain drivers and riders, insurance coverage, autonomous vehicle technology, reputation and brand, illegal or improper activity on the platform, accuracy of background checks, changes to pricing practices, growth management, security and privacy breaches, reliance on third parties, and ability to operate various programs and services. Additionally, Lyft faces risks related to its evolving business, including forecasting revenue and managing expenses, complying with laws and regulations, managing assets and expenses during the COVID-19 pandemic, capital expenditures, asset development and utilization, macroeconomic changes, reputation and brand management, growth and business operations, geographic expansion, talent acquisition and retention, platform development, and real estate portfolio management. Furthermore, Lyft's financial performance in recent periods may not be indicative of future performance, and achieving or maintaining profitability in the future is not guaranteed. The Express Drive program and Lyft Rentals program also expose Lyft to risks related to vehicle rental partners, residual value of vehicles, and payment processing.\n"
          ]
        }
      ],
      "source": [
        "response = agent.chat(\n",
        "    \"Can you tell me about the risk factors of the company with the higher\"\n",
        "    \" revenue?\"\n",
        ")\n",
        "print(str(response))"
      ]
    },
    {
      "cell_type": "code",
      "execution_count": null,
      "id": "39d52b33-883d-42fc-89cf-18203b2d2eca",
      "metadata": {
        "id": "39d52b33-883d-42fc-89cf-18203b2d2eca",
        "outputId": "d4d68979-f5cc-48c4-e972-e52832c57d81"
      },
      "outputs": [
        {
          "name": "stdout",
          "output_type": "stream",
          "text": [
            "\u001b[38;5;200m\u001b[1;3mResponse: The risk factors for the company with the higher revenue include competition, regulatory changes, and dependence on drivers.\n",
            "\u001b[0mThe risk factors for the company with the higher revenue include competition, regulatory changes, and dependence on drivers.\n"
          ]
        }
      ],
      "source": [
        "response = agent_instruct.query(\n",
        "    \"Can you tell me about the risk factors of the company with the higher\"\n",
        "    \" revenue?\"\n",
        ")\n",
        "print(str(response))"
      ]
    },
    {
      "cell_type": "markdown",
      "id": "dc98f0d4-6697-45bf-8465-f8f0667185f1",
      "metadata": {
        "id": "dc98f0d4-6697-45bf-8465-f8f0667185f1"
      },
      "source": [
        "**Observation**: The turbo-instruct agent seems to do worse on agent reasoning compared to the regular turbo model. Of course, this is subject to further observation!"
      ]
    }
  ],
  "metadata": {
    "kernelspec": {
      "display_name": "llama_index_v2",
      "language": "python",
      "name": "llama_index_v2"
    },
    "language_info": {
      "codemirror_mode": {
        "name": "ipython",
        "version": 3
      },
      "file_extension": ".py",
      "mimetype": "text/x-python",
      "name": "python",
      "nbconvert_exporter": "python",
      "pygments_lexer": "ipython3"
    },
    "colab": {
      "provenance": [],
      "include_colab_link": true
    }
  },
  "nbformat": 4,
  "nbformat_minor": 5
}